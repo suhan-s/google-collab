{
  "nbformat": 4,
  "nbformat_minor": 0,
  "metadata": {
    "colab": {
      "name": "cnn-mnist-simplified.ipynb",
      "version": "0.3.2",
      "provenance": [],
      "include_colab_link": true
    },
    "kernelspec": {
      "name": "python3",
      "display_name": "Python 3"
    }
  },
  "cells": [
    {
      "cell_type": "markdown",
      "metadata": {
        "id": "view-in-github",
        "colab_type": "text"
      },
      "source": [
        "[View in Colaboratory](https://colab.research.google.com/github/suhan-s/google-collab/blob/master/cnn_mnist_simplified.ipynb)"
      ]
    },
    {
      "metadata": {
        "id": "h7wl6ME5ewhg",
        "colab_type": "code",
        "colab": {
          "base_uri": "https://localhost:8080/",
          "height": 496
        },
        "outputId": "3142c1af-4f69-4892-819d-77a62cb1780d"
      },
      "cell_type": "code",
      "source": [
        "import tensorflow as tf\n",
        "tf.logging.set_verbosity(tf.logging.ERROR)\n",
        "\n",
        "from tensorflow.examples.tutorials.mnist import input_data\n",
        "mnist = input_data.read_data_sets('MNIST_data', one_hot=True)\n",
        "\n",
        "x = tf.placeholder(tf.float32, shape=[None, 784])\n",
        "y_ = tf.placeholder(tf.float32, shape=[None, 10])\n",
        "x_image = tf.reshape(x, [-1, 28, 28, 1])\n",
        "keep_prob = tf.placeholder(tf.float32)\n",
        "\n",
        "conv1 = tf.layers.conv2d(x_image, 32, 5, 1, padding='SAME', activation=tf.nn.relu)\n",
        "maxpool1 = tf.layers.max_pooling2d(conv1, 2, 2)\n",
        "conv2 = tf.layers.conv2d(maxpool1, 64, 5, 1, padding='SAME', activation=tf.nn.relu)\n",
        "maxpool2 = tf.layers.max_pooling2d(conv2, 2, 2)\n",
        "fc1 = tf.layers.flatten(maxpool2)\n",
        "fc2 = tf.layers.dense(fc1, 1024)\n",
        "fc3 = tf.layers.dropout(fc2, keep_prob)\n",
        "out = tf.layers.dense(fc3, 10)\n",
        "\n",
        "cross_enthropy = tf.reduce_mean(tf.nn.softmax_cross_entropy_with_logits_v2(labels=y_,logits=out))\n",
        "train_step = tf.train.AdamOptimizer(learning_rate=1e-4).minimize(cross_enthropy)\n",
        "\n",
        "correct_prediction = tf.equal(tf.arg_max(out,1),tf.arg_max(y_,1))\n",
        "accuracy = tf.reduce_mean(tf.cast(correct_prediction,tf.float32))\n",
        "\n",
        "session = tf.InteractiveSession()\n",
        "session.run(tf.global_variables_initializer())\n",
        "for steps in range(2000):\n",
        "    batch = mnist.train.next_batch(50)\n",
        "    if steps % 100 == 0:\n",
        "        train_accuracy = accuracy.eval(feed_dict={x: batch[0], y_: batch[1], keep_prob: 1})\n",
        "        print(\"Step %d accuracy %g\" % (steps, train_accuracy))\n",
        "    train_step.run(feed_dict={x: batch[0], y_: batch[1], keep_prob: 0.5})\n",
        "\n",
        "print(\"Traing Accuracy %g\"% accuracy.eval(feed_dict={x: mnist.test.images, y_: mnist.test.labels, keep_prob: 1}))\n",
        "session.close()\n"
      ],
      "execution_count": 2,
      "outputs": [
        {
          "output_type": "stream",
          "text": [
            "Extracting MNIST_data/train-images-idx3-ubyte.gz\n",
            "Extracting MNIST_data/train-labels-idx1-ubyte.gz\n",
            "Extracting MNIST_data/t10k-images-idx3-ubyte.gz\n",
            "Extracting MNIST_data/t10k-labels-idx1-ubyte.gz\n"
          ],
          "name": "stdout"
        },
        {
          "output_type": "stream",
          "text": [
            "/usr/local/lib/python3.6/dist-packages/tensorflow/python/client/session.py:1714: UserWarning: An interactive session is already active. This can cause out-of-memory errors in some cases. You must explicitly call `InteractiveSession.close()` to release resources held by the other session(s).\n",
            "  warnings.warn('An interactive session is already active. This can '\n"
          ],
          "name": "stderr"
        },
        {
          "output_type": "stream",
          "text": [
            "Step 0 accuracy 0.02\n",
            "Step 100 accuracy 0.84\n",
            "Step 200 accuracy 0.92\n",
            "Step 300 accuracy 0.92\n",
            "Step 400 accuracy 0.9\n",
            "Step 500 accuracy 0.96\n",
            "Step 600 accuracy 0.96\n",
            "Step 700 accuracy 0.98\n",
            "Step 800 accuracy 1\n",
            "Step 900 accuracy 0.96\n",
            "Step 1000 accuracy 0.98\n",
            "Step 1100 accuracy 1\n",
            "Step 1200 accuracy 0.96\n",
            "Step 1300 accuracy 0.98\n",
            "Step 1400 accuracy 0.96\n",
            "Step 1500 accuracy 1\n",
            "Step 1600 accuracy 0.98\n",
            "Step 1700 accuracy 0.96\n",
            "Step 1800 accuracy 0.98\n",
            "Step 1900 accuracy 1\n",
            "Traing Accuracy 0.9841\n"
          ],
          "name": "stdout"
        }
      ]
    }
  ]
}